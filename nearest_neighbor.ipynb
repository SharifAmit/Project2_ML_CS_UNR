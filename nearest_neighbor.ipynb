{
 "cells": [
  {
   "cell_type": "code",
   "execution_count": 1,
   "metadata": {},
   "outputs": [],
   "source": [
    "import numpy as np\n",
    "import math\n",
    "import operator\n",
    "import csv\n",
    "import random\n"
   ]
  },
  {
   "cell_type": "code",
   "execution_count": 2,
   "metadata": {},
   "outputs": [],
   "source": [
    "X_train = np.array([[1,5],\\\n",
    "              [2,6],\\\n",
    "              [2,7],\\\n",
    "              [3,7],\\\n",
    "              [3,8],\\\n",
    "              [4,8],\\\n",
    "              [5,1],\\\n",
    "              [5,9],\\\n",
    "              [6,2],\\\n",
    "              [7,2],\\\n",
    "              [7,3],\\\n",
    "              [8,3],\\\n",
    "              [8,4],\\\n",
    "              [9,5]])\n",
    "Y_train = np.array([[-1],[-1],[1],[-1],[1],[-1],[1],[-1],[1],[-1],[1],[-1],[1],[1]])\n",
    "\n",
    "X_test = np.array([[1,1],\\\n",
    "              [2,1],\\\n",
    "              [0,10],\\\n",
    "              [10,10],\\\n",
    "              [5,5],\\\n",
    "              [3,10],\\\n",
    "              [9,4],\\\n",
    "              [6,2],\\\n",
    "              [2,2],\\\n",
    "              [8,7]])\n",
    "Y_test = np.array([[1],[-1],[1],[-1],[1],[-1],[1],[-1],[1],[-1]])"
   ]
  },
  {
   "cell_type": "code",
   "execution_count": 3,
   "metadata": {},
   "outputs": [
    {
     "name": "stdout",
     "output_type": "stream",
     "text": [
      "(14, 2)\n",
      "(14, 1)\n",
      "(10, 2)\n",
      "(10, 1)\n",
      "[1 5]\n",
      "[1 1]\n"
     ]
    }
   ],
   "source": [
    "print(X_train.shape)\n",
    "print(Y_train.shape)\n",
    "print(X_test.shape)\n",
    "print(Y_test.shape)\n",
    "print(X_train[0])\n",
    "print(X_test[0])"
   ]
  },
  {
   "cell_type": "code",
   "execution_count": 4,
   "metadata": {},
   "outputs": [],
   "source": [
    "def Calculate_distance(x1, x2):\n",
    "    length = len(x1)\n",
    "    #print(length)\n",
    "    dist = 0\n",
    "    for i in range(length):\n",
    "        dist += pow((x1[i] - x2[i]), 2)\n",
    "    dist = math.sqrt(dist)\n",
    "    return dist"
   ]
  },
  {
   "cell_type": "code",
   "execution_count": 5,
   "metadata": {},
   "outputs": [
    {
     "name": "stdout",
     "output_type": "stream",
     "text": [
      "4.0\n"
     ]
    }
   ],
   "source": [
    "distance = Calculate_distance(X_train[0], X_test[0])\n",
    "print(distance)"
   ]
  },
  {
   "cell_type": "code",
   "execution_count": 6,
   "metadata": {},
   "outputs": [],
   "source": [
    "def sorted_neighbor(dist_from_train,k):\n",
    "    index_arr = list(range(len(dist_from_train)))\n",
    "    #print(index_arr)                 \n",
    "    for i in range (1,len(dist_from_train)):\n",
    "        val = dist_from_train[i][1]\n",
    "        dummy = dist_from_train[i]\n",
    "        tracker = index_arr[i]\n",
    "        j = i-1\n",
    "        while j >=0 and val < dist_from_train[j][1]:\n",
    "            dist_from_train[j+1] = dist_from_train[j]\n",
    "            index_arr[j+1] = index_arr[j]\n",
    "            j = j-1\n",
    "        dist_from_train[j+1]=dummy\n",
    "        index_arr[j+1]=tracker\n",
    "        \n",
    "    #print(index_arr)    \n",
    "    #print(dist_from_train)\n",
    "    nn = []\n",
    "    track_index=[]\n",
    "    for i in range(k):\n",
    "        nn.append(dist_from_train[i][0])\n",
    "        track_index.append(index_arr[i])\n",
    "    return nn,track_index"
   ]
  },
  {
   "cell_type": "code",
   "execution_count": 7,
   "metadata": {},
   "outputs": [],
   "source": [
    "def nearest_neighbor(X_train, X_test, k):\n",
    "    dist_from_train = []\n",
    "    length = len(X_test)\n",
    "    for i in range(len(X_train)):\n",
    "        dist = Calculate_distance(X_test, X_train[i])\n",
    "        dist_from_train.append((X_train[i], dist))\n",
    "    #print(dist_from_train)\n",
    "    nn,track_index = sorted_neighbor(dist_from_train,k)\n",
    "    return nn,track_index"
   ]
  },
  {
   "cell_type": "code",
   "execution_count": 8,
   "metadata": {},
   "outputs": [
    {
     "name": "stdout",
     "output_type": "stream",
     "text": [
      "[array([2, 7]), array([3, 8]), array([3, 7])]\n",
      "[2, 4, 3]\n"
     ]
    }
   ],
   "source": [
    "k = 3\n",
    "neighbors,indices = nearest_neighbor(X_train, X_test[2], k)\n",
    "print(neighbors)\n",
    "print(indices)"
   ]
  },
  {
   "cell_type": "code",
   "execution_count": 9,
   "metadata": {},
   "outputs": [],
   "source": [
    "def sign_pred(track,Y_train):\n",
    "    unique_count = 0\n",
    "    sign=[]\n",
    "    for i in Y_train:\n",
    "        if i not in sign:\n",
    "            sign.append(i)\n",
    "            unique_count= unique_count +1\n",
    "    count_arr= [0]*unique_count\n",
    "    for i in track:\n",
    "        for j in range(len(sign)):\n",
    "            if sign[j] == Y_train[i][0]:\n",
    "                #print(sign[j],Y_train[i][0])\n",
    "                count_arr[j] = count_arr[j]+1\n",
    "    max_pred=0\n",
    "    max_index=0\n",
    "    for i in range(len(count_arr)):\n",
    "        if max_pred < count_arr[i]:\n",
    "            max_pred = count_arr[i]\n",
    "            max_index = i\n",
    "    #print(max_pred)\n",
    "    return sign[max_index][0]"
   ]
  },
  {
   "cell_type": "code",
   "execution_count": 10,
   "metadata": {},
   "outputs": [],
   "source": [
    "def Accuracy(pred, Y_test):\n",
    "    correct_pred = 0\n",
    "    for x in range(len(Y_test)):\n",
    "        #print(Y_test[x][0])\n",
    "        if Y_test[x][0] == pred[x]:\n",
    "            correct_pred = correct_pred + 1\n",
    "        acc = (correct_pred/len(Y_test)) * 100.0\n",
    "    return acc"
   ]
  },
  {
   "cell_type": "code",
   "execution_count": 11,
   "metadata": {},
   "outputs": [
    {
     "name": "stdout",
     "output_type": "stream",
     "text": [
      "1\n"
     ]
    }
   ],
   "source": [
    "#print(Y_test[0][0])\n",
    "#print(len(Y_test))\n",
    "pred = [-1,-1,-1,-1,-1,-1,-1,-1,1,-1]\n",
    "max_sign = sign_pred(indices,Y_train)\n",
    "print(max_sign)\n",
    "#accuracy = Accuracy(pred,Y_test)\n",
    "#print(accuracy)"
   ]
  },
  {
   "cell_type": "code",
   "execution_count": 12,
   "metadata": {},
   "outputs": [],
   "source": [
    "def KNN_test(X_train,Y_train,X_test,Y_test,K):\n",
    "    preds=[]\n",
    "    for x in range(len(X_test)):\n",
    "        #print(X_test[x])\n",
    "        neighbors,track = nearest_neighbor(X_train, X_test[x], K)\n",
    "        rs = sign_pred(track,Y_train)\n",
    "        preds.append(rs)\n",
    "        #print(preds)\n",
    "        #print('> predicted=' + repr(rs) + ', actual=' + repr(Y_test[x][0]))\n",
    "    accuracy = Accuracy(preds, Y_test)\n",
    "    print(accuracy)\n",
    "    print('Accuracy: ' + repr(accuracy) + '%')\n",
    "    return accuracy"
   ]
  },
  {
   "cell_type": "code",
   "execution_count": 23,
   "metadata": {},
   "outputs": [],
   "source": [
    "def choose_K(X_train,Y_train,X_val,Y_val):\n",
    "    best_acc = 0\n",
    "    K = len(X_train)+1\n",
    "    for k in range(1,K):\n",
    "        if k % 2 != 0 :\n",
    "            print('FOR K = ',k)\n",
    "            acc = KNN_test(X_train,Y_train,X_val,Y_val,k)\n",
    "            if best_acc < acc:\n",
    "                best_acc = acc\n",
    "                best_k=k\n",
    "    return best_acc, best_k\n"
   ]
  },
  {
   "cell_type": "code",
   "execution_count": 24,
   "metadata": {},
   "outputs": [
    {
     "name": "stdout",
     "output_type": "stream",
     "text": [
      "FOR K =  1\n",
      "30.0\n",
      "Accuracy: 30.0%\n",
      "FOR K =  3\n",
      "40.0\n",
      "Accuracy: 40.0%\n",
      "FOR K =  5\n",
      "60.0\n",
      "Accuracy: 60.0%\n",
      "FOR K =  7\n",
      "50.0\n",
      "Accuracy: 50.0%\n",
      "FOR K =  9\n",
      "70.0\n",
      "Accuracy: 70.0%\n",
      "FOR K =  11\n",
      "40.0\n",
      "Accuracy: 40.0%\n",
      "FOR K =  13\n",
      "40.0\n",
      "Accuracy: 40.0%\n",
      "Best Accuracy: 70.0%\n",
      "Best_K: 9\n"
     ]
    }
   ],
   "source": [
    "best_acc, best_k = choose_K(X_train,Y_train,X_test,Y_test)\n",
    "print('Best Accuracy: ' + repr(best_acc) + '%')\n",
    "print('Best_K: ' + repr(best_k))"
   ]
  },
  {
   "cell_type": "code",
   "execution_count": null,
   "metadata": {},
   "outputs": [],
   "source": [
    "def main():\n",
    "    # prepare data\n",
    "    trainingSet=[]\n",
    "    testSet=[]\n",
    "    split = 0.67\n",
    "    loadDataset('iris.data', split, trainingSet, testSet)\n",
    "    print ('Train set: ' + repr(len(trainingSet)))\n",
    "    print ('Test set: ' + repr(len(testSet)))\n",
    "    print(trainingSet[0])\n",
    "    # generate predictions\n",
    "    predictions=[]\n",
    "    k = 3\n",
    "    for x in range(len(testSet)):\n",
    "        neighbors = getNeighbors(trainingSet, testSet[x], k)\n",
    "        result = getResponse(neighbors)\n",
    "        predictions.append(result)\n",
    "        print('> predicted=' + repr(result) + ', actual=' + repr(testSet[x][-1]))\n",
    "    accuracy = getAccuracy(testSet, predictions)\n",
    "    print('Accuracy: ' + repr(accuracy) + '%')\n",
    "    \n",
    "main()"
   ]
  },
  {
   "cell_type": "code",
   "execution_count": null,
   "metadata": {},
   "outputs": [],
   "source": []
  }
 ],
 "metadata": {
  "kernelspec": {
   "display_name": "Python 3",
   "language": "python",
   "name": "python3"
  },
  "language_info": {
   "codemirror_mode": {
    "name": "ipython",
    "version": 3
   },
   "file_extension": ".py",
   "mimetype": "text/x-python",
   "name": "python",
   "nbconvert_exporter": "python",
   "pygments_lexer": "ipython3",
   "version": "3.6.8"
  }
 },
 "nbformat": 4,
 "nbformat_minor": 2
}
