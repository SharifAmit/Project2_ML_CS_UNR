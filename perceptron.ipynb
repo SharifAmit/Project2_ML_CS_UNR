{
 "cells": [
  {
   "cell_type": "code",
   "execution_count": 1,
   "metadata": {},
   "outputs": [],
   "source": [
    "import numpy as np\n",
    "import math\n",
    "import random\n",
    "import matplotlib.pyplot as plt\n",
    "%matplotlib inline\n"
   ]
  },
  {
   "cell_type": "code",
   "execution_count": 2,
   "metadata": {},
   "outputs": [],
   "source": [
    "X = np.array([[0,1],[1,0],[5,4],[1,1],[3,3],[2,4],[1,6]])\n",
    "Y = np.array([[1],[1],[0],[1],[0],[0],[0]])\n",
    "#W = perceptrontrain(X,Y)\n",
    "#testacc = perceptrontest(X,Y,W[0],W[1])"
   ]
  },
  {
   "cell_type": "code",
   "execution_count": 3,
   "metadata": {},
   "outputs": [],
   "source": [
    "#def perceptrontrai(X,Y):"
   ]
  },
  {
   "cell_type": "code",
   "execution_count": 4,
   "metadata": {},
   "outputs": [],
   "source": [
    "#print (round(random.uniform(-1,1),4))\n",
    "def weight_initialize(X):\n",
    "    x_shape = X.shape\n",
    "    W = np.zeros(x_shape[1])\n",
    "    for j in range(x_shape[1]):\n",
    "        W[j] = round(random.uniform(-1,1),4)\n",
    "    b= round(random.uniform(-1,1),4)\n",
    "    return W,b"
   ]
  },
  {
   "cell_type": "code",
   "execution_count": 5,
   "metadata": {},
   "outputs": [],
   "source": [
    "#W,b = weight_initialize(X)\n",
    "#print(W,b)"
   ]
  },
  {
   "cell_type": "code",
   "execution_count": 6,
   "metadata": {},
   "outputs": [],
   "source": [
    "#print(len(X[1]))\n",
    "#print(Y[4][0])\n",
    "#print(X[1][0])\n",
    "#print(W[0])"
   ]
  },
  {
   "cell_type": "code",
   "execution_count": 7,
   "metadata": {},
   "outputs": [],
   "source": [
    "def dot_product(X,W):\n",
    "    result = 0\n",
    "    for i in range(len(X)):\n",
    "        result += W[i]*X[i]\n",
    "    return result"
   ]
  },
  {
   "cell_type": "code",
   "execution_count": 8,
   "metadata": {},
   "outputs": [],
   "source": [
    "#a = dot_product(X[0],W)\n",
    "#print(a)\n",
    "#a = a + b\n",
    "#print(a)\n",
    "#ay = a*Y[0][0]\n",
    "#print(ay)"
   ]
  },
  {
   "cell_type": "code",
   "execution_count": 9,
   "metadata": {},
   "outputs": [],
   "source": [
    "#print (X[0]*Y[0][0])\n"
   ]
  },
  {
   "cell_type": "code",
   "execution_count": 10,
   "metadata": {},
   "outputs": [],
   "source": [
    "def update_weights(W,b,X,Y):\n",
    "    for i in range(len(X)):\n",
    "        W[i] = W[i] + X[i]*Y[0]\n",
    "    b = b + Y[0]\n",
    "    return W,b"
   ]
  },
  {
   "cell_type": "code",
   "execution_count": 11,
   "metadata": {},
   "outputs": [],
   "source": [
    "#W,b = update_weights(W,b,X[0],Y[0])\n",
    "#print (W,b)"
   ]
  },
  {
   "cell_type": "code",
   "execution_count": 41,
   "metadata": {},
   "outputs": [],
   "source": [
    "def perceptron_train(X,Y):\n",
    "    x_shape = X.shape\n",
    "    epochs = 10\n",
    "    a= 0\n",
    "    W,b = weight_initialize(X)\n",
    "    for j in range(epochs):\n",
    "        #print('Epoch: ',j)\n",
    "        for i in range(x_shape[0]):\n",
    "            a = dot_product(X[i],W)\n",
    "            a = a + b\n",
    "            ay = a*Y[i][0]\n",
    "            if ay <= 0:\n",
    "                W,b = update_weights(W,b,X[i],Y[i])\n",
    "                #print(W,b)\n",
    "            else:\n",
    "                pass\n",
    "    Weights = []\n",
    "    Weights.append((W,b))\n",
    "    #print('Final:',W)\n",
    "    return Weights[0]"
   ]
  },
  {
   "cell_type": "code",
   "execution_count": 43,
   "metadata": {},
   "outputs": [
    {
     "name": "stdout",
     "output_type": "stream",
     "text": [
      "Final: [-0.074   0.5634]\n"
     ]
    }
   ],
   "source": [
    "W = perceptron_train(X,Y)\n",
    "print('Final:',W[0])"
   ]
  },
  {
   "cell_type": "code",
   "execution_count": null,
   "metadata": {},
   "outputs": [],
   "source": []
  }
 ],
 "metadata": {
  "kernelspec": {
   "display_name": "Python 3",
   "language": "python",
   "name": "python3"
  },
  "language_info": {
   "codemirror_mode": {
    "name": "ipython",
    "version": 3
   },
   "file_extension": ".py",
   "mimetype": "text/x-python",
   "name": "python",
   "nbconvert_exporter": "python",
   "pygments_lexer": "ipython3",
   "version": "3.6.8"
  }
 },
 "nbformat": 4,
 "nbformat_minor": 2
}
