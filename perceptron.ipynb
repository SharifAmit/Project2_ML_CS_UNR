{
 "cells": [
  {
   "cell_type": "code",
   "execution_count": 1,
   "metadata": {},
   "outputs": [],
   "source": [
    "import numpy as np\n",
    "import math\n",
    "import random\n",
    "import matplotlib.pyplot as plt\n",
    "%matplotlib inline\n"
   ]
  },
  {
   "cell_type": "code",
   "execution_count": 2,
   "metadata": {},
   "outputs": [],
   "source": [
    "X = np.array([[0,1],[1,0],[5,4],[1,1],[3,3],[2,4],[1,6]])\n",
    "Y = np.array([[1],[1],[0],[1],[0],[0],[0]])\n",
    "#W = perceptrontrain(X,Y)\n",
    "#testacc = perceptrontest(X,Y,W[0],W[1])"
   ]
  },
  {
   "cell_type": "code",
   "execution_count": 3,
   "metadata": {},
   "outputs": [],
   "source": [
    "#def perceptrontrai(X,Y):"
   ]
  },
  {
   "cell_type": "code",
   "execution_count": 4,
   "metadata": {},
   "outputs": [],
   "source": [
    "#print (round(random.uniform(-1,1),4))\n",
    "def weight_initialize(X):\n",
    "    x_shape = X.shape\n",
    "    W = np.zeros(x_shape[1])\n",
    "    for j in range(x_shape[1]):\n",
    "        W[j] = round(random.uniform(-1,1),4)\n",
    "    b= round(random.uniform(-1,1),4)\n",
    "    return W,b"
   ]
  },
  {
   "cell_type": "code",
   "execution_count": 5,
   "metadata": {},
   "outputs": [],
   "source": [
    "#W,b = weight_initialize(X)\n",
    "#print(W,b)"
   ]
  },
  {
   "cell_type": "code",
   "execution_count": 6,
   "metadata": {},
   "outputs": [],
   "source": [
    "#print(len(X[1]))\n",
    "#print(Y[4][0])\n",
    "#print(X[1][0])\n",
    "#print(W[0])"
   ]
  },
  {
   "cell_type": "code",
   "execution_count": 7,
   "metadata": {},
   "outputs": [],
   "source": [
    "def dot_product(X,W):\n",
    "    result = 0\n",
    "    for i in range(len(X)):\n",
    "        result += W[i]*X[i]\n",
    "    return result"
   ]
  },
  {
   "cell_type": "code",
   "execution_count": 8,
   "metadata": {},
   "outputs": [],
   "source": [
    "#a = dot_product(X[0],W)\n",
    "#print(a)\n",
    "#a = a + b\n",
    "#print(a)\n",
    "#ay = a*Y[0][0]\n",
    "#print(ay)"
   ]
  },
  {
   "cell_type": "code",
   "execution_count": 9,
   "metadata": {},
   "outputs": [],
   "source": [
    "#print (X[0]*Y[0][0])\n"
   ]
  },
  {
   "cell_type": "code",
   "execution_count": 10,
   "metadata": {},
   "outputs": [],
   "source": [
    "def update_weights(W,b,X,Y):\n",
    "    for i in range(len(X)):\n",
    "        W[i] = W[i] + X[i]*Y[0]\n",
    "    b = b + Y[0]\n",
    "    return W,b"
   ]
  },
  {
   "cell_type": "code",
   "execution_count": 11,
   "metadata": {},
   "outputs": [],
   "source": [
    "#W,b = update_weights(W,b,X[0],Y[0])\n",
    "#print (W,b)"
   ]
  },
  {
   "cell_type": "code",
   "execution_count": 12,
   "metadata": {},
   "outputs": [],
   "source": [
    "def perceptron_train(X,Y):\n",
    "    x_shape = X.shape\n",
    "    epochs = 10\n",
    "    a= 0\n",
    "    W,b = weight_initialize(X)\n",
    "    for j in range(epochs):\n",
    "        #print('Epoch: ',j)\n",
    "        for i in range(x_shape[0]):\n",
    "            a = dot_product(X[i],W)\n",
    "            a = a + b\n",
    "            ay = a*Y[i][0]\n",
    "            if ay <= 0:\n",
    "                W,b = update_weights(W,b,X[i],Y[i])\n",
    "                #print(W,b)\n",
    "            else:\n",
    "                pass\n",
    "    Weights = []\n",
    "    Weights.append((W,b))\n",
    "    #print('Final:',W)\n",
    "    return Weights[0]"
   ]
  },
  {
   "cell_type": "code",
   "execution_count": 14,
   "metadata": {},
   "outputs": [
    {
     "name": "stdout",
     "output_type": "stream",
     "text": [
      "Final: (array([0.2082, 0.2442]), 1.5371000000000001)\n"
     ]
    }
   ],
   "source": [
    "W = perceptron_train(X,Y)\n",
    "print('Final:',W)"
   ]
  },
  {
   "cell_type": "code",
   "execution_count": 17,
   "metadata": {},
   "outputs": [],
   "source": [
    "def activation(X, W, b):\n",
    "        act = dot_product(X,W)\n",
    "        act = act + b\n",
    "        if act > 0:\n",
    "          act = 1\n",
    "        else:\n",
    "          act = 0            \n",
    "        return act"
   ]
  },
  {
   "cell_type": "code",
   "execution_count": 29,
   "metadata": {},
   "outputs": [],
   "source": [
    " def perceptron_test(X_test, Y_test, W, b):\n",
    "        Y_pred = []\n",
    "        x_shape = X_test.shape\n",
    "        for i in range(x_shape[0]):\n",
    "            pred = activation(X_test[i], W, b)\n",
    "            Y_pred.append(pred)\n",
    "        count = 0\n",
    "        for i in range(x_shape[0]):\n",
    "            if Y_pred[i] == Y_test[i][0]:\n",
    "               count = count + 1\n",
    "        print(count)\n",
    "        print(Y_test)\n",
    "        print(Y_pred)\n",
    "        acc = (count/len(Y_pred)) * 100.0\n",
    "        return acc"
   ]
  },
  {
   "cell_type": "code",
   "execution_count": 30,
   "metadata": {},
   "outputs": [
    {
     "name": "stdout",
     "output_type": "stream",
     "text": [
      "3\n",
      "[[1]\n",
      " [1]\n",
      " [0]\n",
      " [1]\n",
      " [0]\n",
      " [0]\n",
      " [0]]\n",
      "[1, 1, 1, 1, 1, 1, 1]\n",
      "42.857142857142854\n"
     ]
    }
   ],
   "source": [
    "accuracy = perceptron_test(X, Y, W[0], W[1])\n",
    "print (accuracy)"
   ]
  },
  {
   "cell_type": "code",
   "execution_count": 31,
   "metadata": {},
   "outputs": [
    {
     "data": {
      "text/plain": [
       "0.42857142857142855"
      ]
     },
     "execution_count": 31,
     "metadata": {},
     "output_type": "execute_result"
    }
   ],
   "source": [
    "3/7"
   ]
  },
  {
   "cell_type": "code",
   "execution_count": null,
   "metadata": {},
   "outputs": [],
   "source": []
  }
 ],
 "metadata": {
  "kernelspec": {
   "display_name": "Python 3",
   "language": "python",
   "name": "python3"
  },
  "language_info": {
   "codemirror_mode": {
    "name": "ipython",
    "version": 3
   },
   "file_extension": ".py",
   "mimetype": "text/x-python",
   "name": "python",
   "nbconvert_exporter": "python",
   "pygments_lexer": "ipython3",
   "version": "3.6.7"
  }
 },
 "nbformat": 4,
 "nbformat_minor": 2
}
